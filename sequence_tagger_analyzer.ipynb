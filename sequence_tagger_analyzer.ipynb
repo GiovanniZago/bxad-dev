{
 "cells": [
  {
   "cell_type": "code",
   "execution_count": 6,
   "id": "0dac261b",
   "metadata": {},
   "outputs": [],
   "source": [
    "import uproot\n",
    "import awkward as ak\n",
    "import numpy as np\n",
    "import pandas as pd\n",
    "import matplotlib.pyplot as plt\n",
    "from tqdm.notebook import tqdm\n",
    "\n",
    "SEQ_LENGTH = 3\n",
    "COLLIDING_BUNCHES = False"
   ]
  },
  {
   "cell_type": "markdown",
   "id": "d6dfbcbe",
   "metadata": {},
   "source": [
    "### 2-sequences, lumi 1000"
   ]
  },
  {
   "cell_type": "code",
   "execution_count": 7,
   "id": "82b4f935",
   "metadata": {},
   "outputs": [
    {
     "name": "stdout",
     "output_type": "stream",
     "text": [
      "2-SEQUENCES, LUMI 1000\n",
      "Fraction of selected sequences in colliding bunches: 74099 / 351305 = 0.211\n",
      "Fraction of selected sequences in non-colliding bunches: 1247 / 8910 = 0.140\n"
     ]
    }
   ],
   "source": [
    "df = ak.to_dataframe(uproot.open(\"data-sequences/output_1000_seq2.root\" + \":L1BMTFStubSequences\").arrays())\n",
    "df_nc = ak.to_dataframe(uproot.open(\"data-sequences/output_1000_seq2_nc.root\" + \":L1BMTFStubSequences\").arrays())\n",
    "\n",
    "df_sel = pd.read_pickle(\"selected-sequences/df_imbs_output_1000_seq2.pkl\")\n",
    "df_sel_nc = pd.read_pickle(\"selected-sequences/df_imbs_output_1000_seq2_nc.pkl\")\n",
    "\n",
    "nseq = df.groupby(\"sequenceIndex\").ngroups\n",
    "nseq_nc = df_nc.groupby(\"sequenceIndex\").ngroups\n",
    "\n",
    "nseq_sel = df_sel.groupby(\"sequenceIndex\").ngroups\n",
    "nseq_sel_nc = df_sel_nc.groupby(\"sequenceIndex\").ngroups\n",
    "\n",
    "print(\"2-SEQUENCES, LUMI 1000\")\n",
    "print(f\"Fraction of selected sequences in colliding bunches: {nseq_sel} / {nseq} = {nseq_sel / nseq:.3f}\")\n",
    "print(f\"Fraction of selected sequences in non-colliding bunches: {nseq_sel_nc} / {nseq_nc} = {nseq_sel_nc / nseq_nc:.3f}\")"
   ]
  },
  {
   "cell_type": "markdown",
   "id": "97442d6b",
   "metadata": {},
   "source": [
    "### 2-sequences, lumi 2000"
   ]
  },
  {
   "cell_type": "code",
   "execution_count": 8,
   "id": "c4c72fcd",
   "metadata": {},
   "outputs": [
    {
     "name": "stdout",
     "output_type": "stream",
     "text": [
      "2-SEQUENCES, LUMI 2000\n",
      "Fraction of selected sequences in colliding bunches: 41913 / 203782 = 0.206\n",
      "Fraction of selected sequences in non-colliding bunches: 775 / 5735 = 0.135\n"
     ]
    }
   ],
   "source": [
    "df = ak.to_dataframe(uproot.open(\"data-sequences/output_2000_seq2.root\" + \":L1BMTFStubSequences\").arrays())\n",
    "df_nc = ak.to_dataframe(uproot.open(\"data-sequences/output_2000_seq2_nc.root\" + \":L1BMTFStubSequences\").arrays())\n",
    "\n",
    "df_sel = pd.read_pickle(\"selected-sequences/df_imbs_output_2000_seq2.pkl\")\n",
    "df_sel_nc = pd.read_pickle(\"selected-sequences/df_imbs_output_2000_seq2_nc.pkl\")\n",
    "\n",
    "nseq = df.groupby(\"sequenceIndex\").ngroups\n",
    "nseq_nc = df_nc.groupby(\"sequenceIndex\").ngroups\n",
    "\n",
    "nseq_sel = df_sel.groupby(\"sequenceIndex\").ngroups\n",
    "nseq_sel_nc = df_sel_nc.groupby(\"sequenceIndex\").ngroups\n",
    "\n",
    "print(\"2-SEQUENCES, LUMI 2000\")\n",
    "print(f\"Fraction of selected sequences in colliding bunches: {nseq_sel} / {nseq} = {nseq_sel / nseq:.3f}\")\n",
    "print(f\"Fraction of selected sequences in non-colliding bunches: {nseq_sel_nc} / {nseq_nc} = {nseq_sel_nc / nseq_nc:.3f}\")"
   ]
  },
  {
   "cell_type": "markdown",
   "id": "420243e7",
   "metadata": {},
   "source": [
    "### 3-sequences, lumi 1000"
   ]
  },
  {
   "cell_type": "code",
   "execution_count": 9,
   "id": "41c320b0",
   "metadata": {},
   "outputs": [
    {
     "name": "stdout",
     "output_type": "stream",
     "text": [
      "3-SEQUENCES, LUMI 1000\n",
      "Fraction of selected sequences in colliding bunches: 1013 / 52973 = 0.019\n",
      "Fraction of selected sequences in non-colliding bunches: 24 / 444 = 0.054\n"
     ]
    }
   ],
   "source": [
    "df = ak.to_dataframe(uproot.open(\"data-sequences/output_1000_seq3.root\" + \":L1BMTFStubSequences\").arrays())\n",
    "df_nc = ak.to_dataframe(uproot.open(\"data-sequences/output_1000_seq3_nc.root\" + \":L1BMTFStubSequences\").arrays())\n",
    "\n",
    "df_sel = pd.read_pickle(\"selected-sequences/df_imbs_output_1000_seq3.pkl\")\n",
    "df_sel_nc = pd.read_pickle(\"selected-sequences/df_imbs_output_1000_seq3_nc.pkl\")\n",
    "\n",
    "nseq = df.groupby(\"sequenceIndex\").ngroups\n",
    "nseq_nc = df_nc.groupby(\"sequenceIndex\").ngroups\n",
    "\n",
    "nseq_sel = df_sel.groupby(\"sequenceIndex\").ngroups\n",
    "nseq_sel_nc = df_sel_nc.groupby(\"sequenceIndex\").ngroups\n",
    "\n",
    "print(\"3-SEQUENCES, LUMI 1000\")\n",
    "print(f\"Fraction of selected sequences in colliding bunches: {nseq_sel} / {nseq} = {nseq_sel / nseq:.3f}\")\n",
    "print(f\"Fraction of selected sequences in non-colliding bunches: {nseq_sel_nc} / {nseq_nc} = {nseq_sel_nc / nseq_nc:.3f}\")"
   ]
  },
  {
   "cell_type": "markdown",
   "id": "e37f3b3d",
   "metadata": {},
   "source": [
    "### 3-sequences, lumi 2000"
   ]
  },
  {
   "cell_type": "code",
   "execution_count": 10,
   "id": "0ebea343",
   "metadata": {},
   "outputs": [
    {
     "name": "stdout",
     "output_type": "stream",
     "text": [
      "3-SEQUENCES, LUMI 2000\n",
      "Fraction of selected sequences in colliding bunches: 481 / 26528 = 0.018\n",
      "Fraction of selected sequences in non-colliding bunches: 19 / 350 = 0.054\n"
     ]
    }
   ],
   "source": [
    "df = ak.to_dataframe(uproot.open(\"data-sequences/output_2000_seq3.root\" + \":L1BMTFStubSequences\").arrays())\n",
    "df_nc = ak.to_dataframe(uproot.open(\"data-sequences/output_2000_seq3_nc.root\" + \":L1BMTFStubSequences\").arrays())\n",
    "\n",
    "df_sel = pd.read_pickle(\"selected-sequences/df_imbs_output_2000_seq3.pkl\")\n",
    "df_sel_nc = pd.read_pickle(\"selected-sequences/df_imbs_output_2000_seq3_nc.pkl\")\n",
    "\n",
    "nseq = df.groupby(\"sequenceIndex\").ngroups\n",
    "nseq_nc = df_nc.groupby(\"sequenceIndex\").ngroups\n",
    "\n",
    "nseq_sel = df_sel.groupby(\"sequenceIndex\").ngroups\n",
    "nseq_sel_nc = df_sel_nc.groupby(\"sequenceIndex\").ngroups\n",
    "\n",
    "print(\"3-SEQUENCES, LUMI 2000\")\n",
    "print(f\"Fraction of selected sequences in colliding bunches: {nseq_sel} / {nseq} = {nseq_sel / nseq:.3f}\")\n",
    "print(f\"Fraction of selected sequences in non-colliding bunches: {nseq_sel_nc} / {nseq_nc} = {nseq_sel_nc / nseq_nc:.3f}\")"
   ]
  }
 ],
 "metadata": {
  "kernelspec": {
   "display_name": "bxad-env",
   "language": "python",
   "name": "python3"
  },
  "language_info": {
   "codemirror_mode": {
    "name": "ipython",
    "version": 3
   },
   "file_extension": ".py",
   "mimetype": "text/x-python",
   "name": "python",
   "nbconvert_exporter": "python",
   "pygments_lexer": "ipython3",
   "version": "3.11.6"
  }
 },
 "nbformat": 4,
 "nbformat_minor": 5
}
